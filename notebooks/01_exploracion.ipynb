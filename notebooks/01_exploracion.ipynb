{
 "cells": [
  {
   "cell_type": "code",
   "execution_count": null,
   "id": "d345ac4a",
   "metadata": {
    "vscode": {
     "languageId": "plaintext"
    }
   },
   "outputs": [],
   "source": [
    "import re\n",
    "\n",
    "def clean_text(text):\n",
    "    text = re.sub(r'@\\w+|#\\w+|http\\S+', '', text)  # menciones, hashtags, urls\n",
    "    text = re.sub(r'[^A-Za-z0-9\\s]', '', text)  # símbolos\n",
    "    return text.lower()\n"
   ]
  }
 ],
 "metadata": {
  "language_info": {
   "name": "python"
  }
 },
 "nbformat": 4,
 "nbformat_minor": 5
}
