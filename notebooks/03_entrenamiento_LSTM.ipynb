{
 "cells": [
  {
   "cell_type": "code",
   "execution_count": null,
   "id": "38941de4",
   "metadata": {
    "vscode": {
     "languageId": "plaintext"
    }
   },
   "outputs": [],
   "source": [
    "import sys\n",
    "import os\n",
    "sys.path.append(os.path.abspath(\"../src\"))\n",
    "\n",
    "import data_loader\n",
    "import model_lstm \n",
    "import model_bilstm_attention \n",
    "import evaluate\n",
    "import utils  # si lo usas para métricas o visualización\n",
    "\n",
    "\n",
    "import numpy as np\n",
    "from tensorflow.keras.preprocessing.text import Tokenizer\n",
    "from tensorflow.keras.preprocessing.sequence import pad_sequences\n",
    "from sklearn.model_selection import train_test_split\n",
    "\n",
    "# Cargar datos\n",
    "df = data_loader.load_data()\n",
    "\n",
    "# Limpiar texto\n",
    "df['tweet'] = df['tweet'].apply(utils.clean_text)\n",
    "\n",
    "# Tokenización\n",
    "tokenizer = Tokenizer(num_words=10000, oov_token=\"<OOV>\")\n",
    "tokenizer.fit_on_texts(df['tweet'])\n",
    "\n",
    "sequences = tokenizer.texts_to_sequences(df['tweet'])\n",
    "padded = pad_sequences(sequences, maxlen=50, padding='post')\n",
    "\n",
    "# Datos y etiquetas\n",
    "X = padded\n",
    "y = np.array(df['label'])\n",
    "\n",
    "# División train/test\n",
    "X_train, X_test, y_train, y_test = train_test_split(X, y, test_size=0.2, random_state=42)\n",
    "\n",
    "\n",
    "from tensorflow.keras.optimizers import Adam\n",
    "\n",
    "vocab_size = 10000\n",
    "embedding_dim = 64\n",
    "input_length = 50\n",
    "\n",
    "model = model_lstm.build_lstm(...)\n",
    "model = model_bilstm_attention.build_bilstm_attention(...)\n",
    "model.compile(loss='binary_crossentropy', optimizer=Adam(), metrics=['accuracy'])\n",
    "model.summary()\n",
    "\n",
    "\n",
    "history = model.fit(\n",
    "    X_train, y_train,\n",
    "    validation_split=0.2,\n",
    "    epochs=5,\n",
    "    batch_size=32\n",
    ")\n",
    "\n",
    "model.save(\"../models/rnn_model.h5\")\n",
    "\n",
    "\n",
    "from evaluate import evaluate_model\n",
    "\n",
    "y_pred = model.predict(X_test)\n",
    "y_pred_labels = (y_pred > 0.5).astype(\"int32\")\n",
    "\n",
    "evaluate_model(y_test, y_pred_labels)\n"
   ]
  }
 ],
 "metadata": {
  "language_info": {
   "name": "python"
  }
 },
 "nbformat": 4,
 "nbformat_minor": 5
}
